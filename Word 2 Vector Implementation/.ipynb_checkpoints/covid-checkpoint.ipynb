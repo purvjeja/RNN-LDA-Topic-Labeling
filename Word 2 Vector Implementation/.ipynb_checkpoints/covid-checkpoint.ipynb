{
 "cells": [
  {
   "cell_type": "code",
   "execution_count": 41,
   "metadata": {
    "scrolled": false
   },
   "outputs": [
    {
     "data": {
      "text/html": [
       "<div>\n",
       "<style scoped>\n",
       "    .dataframe tbody tr th:only-of-type {\n",
       "        vertical-align: middle;\n",
       "    }\n",
       "\n",
       "    .dataframe tbody tr th {\n",
       "        vertical-align: top;\n",
       "    }\n",
       "\n",
       "    .dataframe thead th {\n",
       "        text-align: right;\n",
       "    }\n",
       "</style>\n",
       "<table border=\"1\" class=\"dataframe\">\n",
       "  <thead>\n",
       "    <tr style=\"text-align: right;\">\n",
       "      <th></th>\n",
       "      <th>UserName</th>\n",
       "      <th>ScreenName</th>\n",
       "      <th>Location</th>\n",
       "      <th>TweetAt</th>\n",
       "      <th>OriginalTweet</th>\n",
       "      <th>Sentiment</th>\n",
       "    </tr>\n",
       "  </thead>\n",
       "  <tbody>\n",
       "    <tr>\n",
       "      <th>0</th>\n",
       "      <td>1</td>\n",
       "      <td>44953</td>\n",
       "      <td>NYC</td>\n",
       "      <td>02-03-2020</td>\n",
       "      <td>TRENDING: New Yorkers encounter empty supermar...</td>\n",
       "      <td>Extremely Negative</td>\n",
       "    </tr>\n",
       "    <tr>\n",
       "      <th>1</th>\n",
       "      <td>2</td>\n",
       "      <td>44954</td>\n",
       "      <td>Seattle, WA</td>\n",
       "      <td>02-03-2020</td>\n",
       "      <td>When I couldn't find hand sanitizer at Fred Me...</td>\n",
       "      <td>Positive</td>\n",
       "    </tr>\n",
       "    <tr>\n",
       "      <th>2</th>\n",
       "      <td>3</td>\n",
       "      <td>44955</td>\n",
       "      <td>NaN</td>\n",
       "      <td>02-03-2020</td>\n",
       "      <td>Find out how you can protect yourself and love...</td>\n",
       "      <td>Extremely Positive</td>\n",
       "    </tr>\n",
       "    <tr>\n",
       "      <th>3</th>\n",
       "      <td>4</td>\n",
       "      <td>44956</td>\n",
       "      <td>Chicagoland</td>\n",
       "      <td>02-03-2020</td>\n",
       "      <td>#Panic buying hits #NewYork City as anxious sh...</td>\n",
       "      <td>Negative</td>\n",
       "    </tr>\n",
       "    <tr>\n",
       "      <th>4</th>\n",
       "      <td>5</td>\n",
       "      <td>44957</td>\n",
       "      <td>Melbourne, Victoria</td>\n",
       "      <td>03-03-2020</td>\n",
       "      <td>#toiletpaper #dunnypaper #coronavirus #coronav...</td>\n",
       "      <td>Neutral</td>\n",
       "    </tr>\n",
       "  </tbody>\n",
       "</table>\n",
       "</div>"
      ],
      "text/plain": [
       "   UserName  ScreenName             Location     TweetAt  \\\n",
       "0         1       44953                  NYC  02-03-2020   \n",
       "1         2       44954          Seattle, WA  02-03-2020   \n",
       "2         3       44955                  NaN  02-03-2020   \n",
       "3         4       44956          Chicagoland  02-03-2020   \n",
       "4         5       44957  Melbourne, Victoria  03-03-2020   \n",
       "\n",
       "                                       OriginalTweet           Sentiment  \n",
       "0  TRENDING: New Yorkers encounter empty supermar...  Extremely Negative  \n",
       "1  When I couldn't find hand sanitizer at Fred Me...            Positive  \n",
       "2  Find out how you can protect yourself and love...  Extremely Positive  \n",
       "3  #Panic buying hits #NewYork City as anxious sh...            Negative  \n",
       "4  #toiletpaper #dunnypaper #coronavirus #coronav...             Neutral  "
      ]
     },
     "execution_count": 41,
     "metadata": {},
     "output_type": "execute_result"
    }
   ],
   "source": [
    "import pandas as pd\n",
    "import os\n",
    "from gensim.models import word2vec, KeyedVectors\n",
    "import pandas as pd\n",
    "# Read data into papers\n",
    "papers = pd.read_csv('C:/Users/hp/Desktop/finalyear/RNN-LDA-Topic-Labeling/Initiation-practice/CSV/T.csv')\n",
    "#Print head\n",
    "papers.head()"
   ]
  },
  {
   "cell_type": "code",
   "execution_count": 42,
   "metadata": {},
   "outputs": [
    {
     "data": {
      "text/html": [
       "<div>\n",
       "<style scoped>\n",
       "    .dataframe tbody tr th:only-of-type {\n",
       "        vertical-align: middle;\n",
       "    }\n",
       "\n",
       "    .dataframe tbody tr th {\n",
       "        vertical-align: top;\n",
       "    }\n",
       "\n",
       "    .dataframe thead th {\n",
       "        text-align: right;\n",
       "    }\n",
       "</style>\n",
       "<table border=\"1\" class=\"dataframe\">\n",
       "  <thead>\n",
       "    <tr style=\"text-align: right;\">\n",
       "      <th></th>\n",
       "      <th>Location</th>\n",
       "      <th>OriginalTweet</th>\n",
       "      <th>Sentiment</th>\n",
       "    </tr>\n",
       "  </thead>\n",
       "  <tbody>\n",
       "    <tr>\n",
       "      <th>1307</th>\n",
       "      <td>NaN</td>\n",
       "      <td>#shortages at the local supermarket #hoarding ...</td>\n",
       "      <td>Neutral</td>\n",
       "    </tr>\n",
       "    <tr>\n",
       "      <th>612</th>\n",
       "      <td>Keswick 017687 80794</td>\n",
       "      <td>If your concerned about the virus heres a lit...</td>\n",
       "      <td>Positive</td>\n",
       "    </tr>\n",
       "    <tr>\n",
       "      <th>3783</th>\n",
       "      <td>Texas</td>\n",
       "      <td>Amazon delivery infrastructure strained as COV...</td>\n",
       "      <td>Negative</td>\n",
       "    </tr>\n",
       "    <tr>\n",
       "      <th>1315</th>\n",
       "      <td>Florida</td>\n",
       "      <td>??AWESOME??\\r\\r\\n\\r\\r\\n@SpeakerPelosi negotiat...</td>\n",
       "      <td>Extremely Positive</td>\n",
       "    </tr>\n",
       "    <tr>\n",
       "      <th>1296</th>\n",
       "      <td>NaN</td>\n",
       "      <td>The Only rising stock sector is Consumer Durab...</td>\n",
       "      <td>Positive</td>\n",
       "    </tr>\n",
       "  </tbody>\n",
       "</table>\n",
       "</div>"
      ],
      "text/plain": [
       "                  Location                                      OriginalTweet  \\\n",
       "1307                   NaN  #shortages at the local supermarket #hoarding ...   \n",
       "612   Keswick 017687 80794  If your concerned about the virus heres a lit...   \n",
       "3783                 Texas  Amazon delivery infrastructure strained as COV...   \n",
       "1315               Florida  ??AWESOME??\\r\\r\\n\\r\\r\\n@SpeakerPelosi negotiat...   \n",
       "1296                   NaN  The Only rising stock sector is Consumer Durab...   \n",
       "\n",
       "               Sentiment  \n",
       "1307             Neutral  \n",
       "612             Positive  \n",
       "3783            Negative  \n",
       "1315  Extremely Positive  \n",
       "1296            Positive  "
      ]
     },
     "execution_count": 42,
     "metadata": {},
     "output_type": "execute_result"
    }
   ],
   "source": [
    "papers = papers.drop(columns=['UserName', 'ScreenName', 'TweetAt'], axis=1).sample(100)\n",
    "papers.head()"
   ]
  },
  {
   "cell_type": "code",
   "execution_count": 43,
   "metadata": {},
   "outputs": [
    {
     "name": "stderr",
     "output_type": "stream",
     "text": [
      "<>:3: DeprecationWarning: invalid escape sequence \\.\n",
      "<>:3: DeprecationWarning: invalid escape sequence \\.\n",
      "<ipython-input-43-c0d7779621b0>:3: DeprecationWarning: invalid escape sequence \\.\n",
      "  papers['OriginalTweet'].map(lambda x: re.sub('[,\\.!?]', '', x))\n"
     ]
    }
   ],
   "source": [
    "import re\n",
    "papers['OriginalTweet_processed'] = \\\n",
    "papers['OriginalTweet'].map(lambda x: re.sub('[,\\.!?]', '', x))"
   ]
  },
  {
   "cell_type": "code",
   "execution_count": 44,
   "metadata": {},
   "outputs": [
    {
     "data": {
      "text/plain": [
       "1307    #shortages at the local supermarket #hoarding ...\n",
       "612     if your concerned about the virus heres a lit...\n",
       "3783    amazon delivery infrastructure strained as cov...\n",
       "1315    awesome\\r\\r\\n\\r\\r\\n@speakerpelosi negotiates #...\n",
       "1296    the only rising stock sector is consumer durab...\n",
       "Name: OriginalTweet_processed, dtype: object"
      ]
     },
     "execution_count": 44,
     "metadata": {},
     "output_type": "execute_result"
    }
   ],
   "source": [
    "# Convert the titles to lowercase\n",
    "papers['OriginalTweet_processed'] = \\\n",
    "papers['OriginalTweet_processed'].map(lambda x: x.lower())\n",
    "# Print out the first rows of papers\n",
    "papers['OriginalTweet_processed'].head()"
   ]
  },
  {
   "cell_type": "code",
   "execution_count": 45,
   "metadata": {},
   "outputs": [
    {
     "data": {
      "image/png": "[encoded data removed]",
      "text/plain": [
       "<PIL.Image.Image image mode=RGB size=400x200 at 0x20A56777EB0>"
      ]
     },
     "execution_count": 45,
     "metadata": {},
     "output_type": "execute_result"
    }
   ],
   "source": [
    "from wordcloud import WordCloud\n",
    "long_string = ','.join(list(papers['OriginalTweet_processed'].values))\n",
    "wordcloud = WordCloud(background_color=\"white\", max_words=5000, contour_width=3, contour_color='steelblue')\n",
    "wordcloud.generate(long_string)\n",
    "wordcloud.to_image()"
   ]
  },
  {
   "cell_type": "code",
   "execution_count": 46,
   "metadata": {},
   "outputs": [
    {
     "name": "stdout",
     "output_type": "stream",
     "text": [
      "['shortages', 'local', 'supermarket', 'hoarding', 'coronavirus', 'covid_', 'trumpvirus', 'bleachricepaper', 'goods', 'https', 'tco', 'stlya', 'wjjl']\n"
     ]
    },
    {
     "name": "stderr",
     "output_type": "stream",
     "text": [
      "[nltk_data] Downloading package stopwords to\n",
      "[nltk_data]     C:\\Users\\hp\\AppData\\Roaming\\nltk_data...\n",
      "[nltk_data]   Package stopwords is already up-to-date!\n"
     ]
    }
   ],
   "source": [
    "import gensim\n",
    "from gensim.utils import simple_preprocess\n",
    "import nltk\n",
    "nltk.download('stopwords')\n",
    "from nltk.corpus import stopwords\n",
    "\n",
    "stop_words = stopwords.words('english')\n",
    "stop_words.extend(['from', 'subject', 're', 'edu', 'use'])\n",
    "\n",
    "def sent_to_words(sentences):\n",
    "    for sentence in sentences:\n",
    "        yield(gensim.utils.simple_preprocess(str(sentence), deacc=True))\n",
    "\n",
    "def remove_stopwords(texts):\n",
    "    return [[word for word in simple_preprocess(str(doc)) \n",
    "             if word not in stop_words] for doc in texts]\n",
    "\n",
    "data = papers.OriginalTweet_processed.values.tolist()\n",
    "data_words = list(sent_to_words(data))\n",
    "\n",
    "\n",
    "data_words = remove_stopwords(data_words)\n",
    "print(data_words[:1][0][:30])"
   ]
  },
  {
   "cell_type": "code",
   "execution_count": 47,
   "metadata": {},
   "outputs": [
    {
     "name": "stdout",
     "output_type": "stream",
     "text": [
      "[(0, 1), (1, 1), (2, 1), (3, 1), (4, 1), (5, 1), (6, 1), (7, 1), (8, 1), (9, 1), (10, 1), (11, 1), (12, 1)]\n"
     ]
    }
   ],
   "source": [
    "import gensim.corpora as corpora\n",
    "\n",
    "# Create Dictionary\n",
    "id2word = corpora.Dictionary(data_words)\n",
    "\n",
    "# Create Corpus\n",
    "texts = data_words\n",
    "\n",
    "# Term Document Frequency\n",
    "corpus = [id2word.doc2bow(text) for text in texts]\n",
    "\n",
    "# View\n",
    "print(corpus[:1][0][:30])"
   ]
  },
  {
   "cell_type": "code",
   "execution_count": 48,
   "metadata": {},
   "outputs": [
    {
     "name": "stdout",
     "output_type": "stream",
     "text": [
      "[(0,\n",
      "  '0.021*\"amp\" + 0.017*\"food\" + 0.017*\"covid_\" + 0.013*\"tco\" + 0.012*\"https\" + '\n",
      "  '0.009*\"toilet\" + 0.009*\"store\" + 0.009*\"supermarket\" + 0.009*\"stock\" + '\n",
      "  '0.008*\"day\"'),\n",
      " (1,\n",
      "  '0.032*\"https\" + 0.032*\"tco\" + 0.024*\"covid\" + 0.023*\"consumer\" + '\n",
      "  '0.013*\"covid_\" + 0.009*\"online\" + 0.009*\"shopping\" + 0.007*\"coronavirus\" + '\n",
      "  '0.007*\"packs\" + 0.007*\"prices\"'),\n",
      " (2,\n",
      "  '0.022*\"covid_\" + 0.021*\"tco\" + 0.021*\"https\" + 0.018*\"store\" + 0.016*\"food\" '\n",
      "  '+ 0.015*\"still\" + 0.014*\"grocery\" + 0.012*\"covid\" + 0.011*\"need\" + '\n",
      "  '0.011*\"help\"'),\n",
      " (3,\n",
      "  '0.025*\"food\" + 0.014*\"virus\" + 0.013*\"people\" + 0.013*\"coronavirus\" + '\n",
      "  '0.011*\"high\" + 0.011*\"need\" + 0.010*\"panic\" + 0.008*\"covid_\" + '\n",
      "  '0.008*\"paper\" + 0.008*\"toilet\"'),\n",
      " (4,\n",
      "  '0.019*\"local\" + 0.014*\"covid\" + 0.012*\"supermarket\" + 0.009*\"available\" + '\n",
      "  '0.008*\"helping\" + 0.007*\"customers\" + 0.006*\"covid_\" + 0.006*\"currently\" + '\n",
      "  '0.006*\"recent\" + 0.006*\"applesupport\"'),\n",
      " (5,\n",
      "  '0.017*\"coronavirus\" + 0.013*\"covid_\" + 0.013*\"like\" + 0.010*\"get\" + '\n",
      "  '0.010*\"us\" + 0.010*\"tco\" + 0.010*\"https\" + 0.009*\"food\" + 0.009*\"help\" + '\n",
      "  '0.008*\"first\"'),\n",
      " (6,\n",
      "  '0.018*\"covid_\" + 0.012*\"food\" + 0.012*\"store\" + 0.011*\"grocery\" + '\n",
      "  '0.010*\"stock\" + 0.008*\"online\" + 0.008*\"covid\" + 0.008*\"seen\" + '\n",
      "  '0.008*\"went\" + 0.008*\"coronaoutbreak\"'),\n",
      " (7,\n",
      "  '0.021*\"coronavirus\" + 0.020*\"tco\" + 0.020*\"https\" + 0.013*\"covid\" + '\n",
      "  '0.010*\"store\" + 0.009*\"prices\" + 0.008*\"grocery\" + 0.008*\"amp\" + '\n",
      "  '0.007*\"shopping\" + 0.007*\"covid_\"'),\n",
      " (8,\n",
      "  '0.025*\"coronavirus\" + 0.016*\"covid\" + 0.013*\"https\" + 0.013*\"tco\" + '\n",
      "  '0.008*\"people\" + 0.008*\"sick\" + 0.008*\"panic\" + 0.007*\"food\" + 0.007*\"day\" '\n",
      "  '+ 0.007*\"go\"'),\n",
      " (9,\n",
      "  '0.020*\"covid_\" + 0.016*\"tco\" + 0.016*\"https\" + 0.011*\"coronavirus\" + '\n",
      "  '0.010*\"store\" + 0.010*\"shopping\" + 0.009*\"food\" + 0.008*\"online\" + '\n",
      "  '0.008*\"get\" + 0.008*\"supermarket\"')]\n"
     ]
    }
   ],
   "source": [
    "from pprint import pprint\n",
    "\n",
    "# number of topics\n",
    "num_topics = 10\n",
    "\n",
    "# Build LDA model\n",
    "lda_model = gensim.models.LdaMulticore(corpus=corpus,id2word=id2word,num_topics=num_topics)\n",
    "\n",
    "# Print the Keyword in the 10 topics\n",
    "pprint(lda_model.print_topics())\n",
    "doc_lda = lda_model[corpus]"
   ]
  },
  {
   "cell_type": "code",
   "execution_count": 49,
   "metadata": {},
   "outputs": [
    {
     "name": "stderr",
     "output_type": "stream",
     "text": [
      "[nltk_data] Downloading package punkt to\n",
      "[nltk_data]     C:\\Users\\hp\\AppData\\Roaming\\nltk_data...\n",
      "[nltk_data]   Package punkt is already up-to-date!\n"
     ]
    },
    {
     "data": {
      "text/plain": [
       "True"
      ]
     },
     "execution_count": 49,
     "metadata": {},
     "output_type": "execute_result"
    }
   ],
   "source": [
    "nltk.download('punkt')"
   ]
  },
  {
   "cell_type": "code",
   "execution_count": 50,
   "metadata": {},
   "outputs": [
    {
     "name": "stderr",
     "output_type": "stream",
     "text": [
      "<ipython-input-50-77ceaeed27b2>:3: DeprecationWarning: Call to deprecated `most_similar` (Method will be removed in 4.0.0, use self.wv.most_similar() instead).\n",
      "  model.most_similar('covid')\n"
     ]
    },
    {
     "data": {
      "text/plain": [
       "[('shoppers', 0.479668527841568),\n",
       " ('fall', 0.4410763382911682),\n",
       " ('worried', 0.43757742643356323),\n",
       " ('cancel', 0.413528710603714),\n",
       " ('awesome', 0.37525343894958496),\n",
       " ('feeling', 0.3747498095035553),\n",
       " ('seemingly', 0.37056130170822144),\n",
       " ('spot', 0.3609308898448944),\n",
       " ('stockpiling', 0.3504023253917694),\n",
       " ('tftav', 0.33928465843200684)]"
      ]
     },
     "execution_count": 50,
     "metadata": {},
     "output_type": "execute_result"
    }
   ],
   "source": [
    "from gensim.models import Word2Vec\n",
    "model=Word2Vec(texts,min_count=1,size=50,workers=3, window =3,sg=0)\n",
    "model.most_similar('covid')"
   ]
  },
  {
   "cell_type": "code",
   "execution_count": 51,
   "metadata": {},
   "outputs": [
    {
     "ename": "IndentationError",
     "evalue": "unexpected indent (<ipython-input-51-317e73db61c9>, line 7)",
     "output_type": "error",
     "traceback": [
      "\u001b[1;36m  File \u001b[1;32m\"<ipython-input-51-317e73db61c9>\"\u001b[1;36m, line \u001b[1;32m7\u001b[0m\n\u001b[1;33m    for wrd_score in close_words:\u001b[0m\n\u001b[1;37m    ^\u001b[0m\n\u001b[1;31mIndentationError\u001b[0m\u001b[1;31m:\u001b[0m unexpected indent\n"
     ]
    }
   ],
   "source": [
    "def display_closestwords_tsnescatterplot(model, texts, size):\n",
    "    \n",
    "    arr = np.empty((0,size), dtype='f')\n",
    "    word_labels = [texts]\n",
    "close_words = model.similar_by_word(texts)\n",
    "arr = np.append(arr, np.array([model[texts]]), axis=0)\n",
    "    for wrd_score in close_words:\n",
    "        wrd_vector = model[wrd_score[0]]\n",
    "        word_labels.append(wrd_score[0])\n",
    "        arr = np.append(arr, np.array([wrd_vector]), axis=0)\n",
    "        \n",
    "    tsne = TSNE(n_components=2, random_state=0)\n",
    "    np.set_printoptions(suppress=True)\n",
    "    Y = tsne.fit_transform(arr)\n",
    "x_coords = Y[:, 0]\n",
    "    y_coords = Y[:, 1]\n",
    "    plt.scatter(x_coords, y_coords)\n",
    "for label, x, y in zip(word_labels, x_coords, y_coords):\n",
    "        plt.annotate(label, xy=(x, y), xytext=(0, 0), textcoords='offset points')\n",
    "plt.set_xlim(left=-1, right=1)\n",
    "plt.set_ylim(bottom=-1, top=1)\n",
    "    plt.show()\n",
    ">>> display_closestwords_tsnescatterplot(model, 'Porsche 718 Cayman', 50)"
   ]
  },
  {
   "cell_type": "code",
   "execution_count": 52,
   "metadata": {},
   "outputs": [
    {
     "name": "stdout",
     "output_type": "stream",
     "text": [
      "\n",
      "\n",
      "\n",
      "\n",
      "[(0,\n",
      "  '0.035*\"tco\" + 0.034*\"https\" + 0.015*\"coronavirus\" + 0.014*\"covid\" + '\n",
      "  '0.014*\"covid_\" + 0.012*\"consumer\" + 0.009*\"store\" + 0.008*\"shopping\" + '\n",
      "  '0.008*\"grocery\" + 0.007*\"amp\"'),\n",
      " (1,\n",
      "  '0.020*\"food\" + 0.014*\"stock\" + 0.013*\"coronavirus\" + 0.013*\"https\" + '\n",
      "  '0.012*\"tco\" + 0.009*\"covid_\" + 0.008*\"amp\" + 0.006*\"day\" + 0.006*\"people\" + '\n",
      "  '0.006*\"covid\"'),\n",
      " (2,\n",
      "  '0.015*\"covid_\" + 0.010*\"prices\" + 0.008*\"supermarket\" + 0.007*\"help\" + '\n",
      "  '0.007*\"food\" + 0.006*\"free\" + 0.006*\"need\" + 0.006*\"let\" + 0.006*\"offers\" + '\n",
      "  '0.005*\"masks\"'),\n",
      " (3,\n",
      "  '0.021*\"covid\" + 0.013*\"coronavirus\" + 0.013*\"store\" + 0.013*\"food\" + '\n",
      "  '0.010*\"covid_\" + 0.009*\"tco\" + 0.008*\"https\" + 0.008*\"online\" + 0.007*\"get\" '\n",
      "  '+ 0.007*\"amp\"'),\n",
      " (4,\n",
      "  '0.020*\"covid_\" + 0.014*\"supermarket\" + 0.012*\"coronavirus\" + 0.010*\"tco\" + '\n",
      "  '0.010*\"https\" + 0.009*\"toilet\" + 0.008*\"us\" + 0.008*\"food\" + 0.008*\"local\" '\n",
      "  '+ 0.008*\"paper\"')]\n"
     ]
    }
   ],
   "source": [
    "dictionary = corpora.Dictionary(texts)\n",
    "#print(dictionary.token2id)\n",
    "#print (len(dictionary))\n",
    "#for j in  dictionary:\n",
    "    #print (dictionary[j])\n",
    "#print (dictionary)\n",
    "# convert tokenized documents into a document-term matrix\n",
    "corpus = [dictionary.doc2bow(texts) for texts in texts]\n",
    "print ('\\n')\n",
    "#print (corpus)\n",
    "print ('\\n')\n",
    "# generate LDA model\n",
    "from pprint import pprint\n",
    "ldamodel = gensim.models.ldamodel.LdaModel(corpus, num_topics=5, id2word = dictionary)\n",
    "#print(ldamodel.print_topics())\n",
    "pprint(ldamodel.print_topics())"
   ]
  },
  {
   "cell_type": "code",
   "execution_count": 53,
   "metadata": {},
   "outputs": [],
   "source": [
    "from gensim.models.coherencemodel import CoherenceModel\n",
    "from gensim.models.ldamodel import LdaModel"
   ]
  },
  {
   "cell_type": "code",
   "execution_count": 54,
   "metadata": {},
   "outputs": [
    {
     "name": "stdout",
     "output_type": "stream",
     "text": [
      "\n",
      "Coherence Score:  0.39775988511531024\n"
     ]
    }
   ],
   "source": [
    "coherence_model_lda = CoherenceModel(model=lda_model, texts=texts, dictionary=dictionary, coherence='c_v')\n",
    "coherence_lda = coherence_model_lda.get_coherence()\n",
    "print('\\nCoherence Score: ', coherence_lda)"
   ]
  },
  {
   "cell_type": "code",
   "execution_count": 55,
   "metadata": {},
   "outputs": [],
   "source": [
    "def compute_coherence_values(dictionary, corpus, texts, limit, start=2, step=3):\n",
    "    coherence_values = []\n",
    "    model_list = []\n",
    "    for num_topics in range(start, limit, step):\n",
    "        model=gensim.models.LdaMulticore(corpus=corpus, id2word=dictionary, num_topics=num_topics)\n",
    "        model_list.append(model)\n",
    "        coherencemodel = CoherenceModel(model=model, texts=texts, dictionary=dictionary, coherence='c_v')\n",
    "        coherence_values.append(coherencemodel.get_coherence())\n",
    "\n",
    "    return model_list, coherence_values"
   ]
  },
  {
   "cell_type": "code",
   "execution_count": null,
   "metadata": {},
   "outputs": [],
   "source": [
    "model_list, coherence_values = compute_coherence_values(dictionary=dictionary, corpus=corpus, texts=texts, start=2, limit=40, step=6)\n",
    "# Show graph\n",
    "import matplotlib.pyplot as plt\n",
    "limit=40; start=2; step=6;\n",
    "x = range(start, limit, step)\n",
    "plt.plot(x, coherence_values)\n",
    "plt.xlabel(\"Num Topics\")\n",
    "plt.ylabel(\"Coherence score\")\n",
    "plt.legend((\"coherence_values\"), loc='best')\n",
    "plt.show()"
   ]
  },
  {
   "cell_type": "code",
   "execution_count": null,
   "metadata": {},
   "outputs": [],
   "source": [
    "import pyLDAvis.gensim\n",
    "import pickle \n",
    "import pyLDAvis\n",
    "\n",
    "# Visualize the topics\n",
    "pyLDAvis.enable_notebook()\n",
    "LDAvis_data_filepath = os.path.join('C:/Users/hp/Desktop/finalyear/RNN-LDA-Topic-Labeling/Initiation-practice/result/covid/ldavis_prepared_10'+str(num_topics))\n",
    "\n",
    "# # this is a bit time consuming - make the if statement True\n",
    "# # if you want to execute visualization prep yourself\n",
    "if 1 == 1:\n",
    "    LDAvis_prepared = pyLDAvis.gensim.prepare(lda_model, corpus, id2word)\n",
    "    with open(LDAvis_data_filepath, 'wb') as f:\n",
    "        pickle.dump(LDAvis_prepared, f)\n",
    "\n",
    "# load the pre-prepared pyLDAvis data from disk\n",
    "with open(LDAvis_data_filepath, 'rb') as f:\n",
    "    LDAvis_prepared = pickle.load(f)\n",
    "pyLDAvis.save_html(LDAvis_prepared, 'C:/Users/hp/Desktop/finalyear/RNN-LDA-Topic-Labeling/Initiation-practice/result/covid/ldavis_prepared_10'+ str(num_topics) +'.html')\n",
    "LDAvis_prepared"
   ]
  },
  {
   "cell_type": "code",
   "execution_count": null,
   "metadata": {},
   "outputs": [],
   "source": []
  }
 ],
 "metadata": {
  "kernelspec": {
   "display_name": "Python 3",
   "language": "python",
   "name": "python3"
  },
  "language_info": {
   "codemirror_mode": {
    "name": "ipython",
    "version": 3
   },
   "file_extension": ".py",
   "mimetype": "text/x-python",
   "name": "python",
   "nbconvert_exporter": "python",
   "pygments_lexer": "ipython3",
   "version": "3.8.3"
  }
 },
 "nbformat": 4,
 "nbformat_minor": 4
}
