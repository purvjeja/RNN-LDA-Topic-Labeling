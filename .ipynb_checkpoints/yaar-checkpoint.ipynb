{
 "cells": [
  {
   "cell_type": "code",
   "execution_count": null,
   "metadata": {},
   "outputs": [],
   "source": [
    "import pandas as pd\n",
    "import os\n",
    "from gensim.models import word2vec, KeyedVectors\n",
    "import pandas as pd\n",
    "# Read data into papers\n",
    "papers = pd.read_csv('C:/Users/hp/Desktop/finalyear/RNN-LDA-Topic-Labeling/Initiation-practice/CSV/T.csv')\n",
    "#Print head\n",
    "papers.head()"
   ]
  }
 ],
 "metadata": {
  "kernelspec": {
   "display_name": "Python 3",
   "language": "python",
   "name": "python3"
  },
  "language_info": {
   "codemirror_mode": {
    "name": "ipython",
    "version": 3
   },
   "file_extension": ".py",
   "mimetype": "text/x-python",
   "name": "python",
   "nbconvert_exporter": "python",
   "pygments_lexer": "ipython3",
   "version": "3.8.3"
  }
 },
 "nbformat": 4,
 "nbformat_minor": 4
}
